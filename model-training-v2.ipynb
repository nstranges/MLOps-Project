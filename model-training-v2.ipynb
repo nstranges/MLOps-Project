{
 "cells": [
  {
   "cell_type": "code",
   "execution_count": 1,
   "metadata": {},
   "outputs": [],
   "source": [
    "from sklearn.ensemble import RandomForestClassifier\n",
    "from sklearn.metrics import (accuracy_score, precision_score, recall_score, \n",
    "                             f1_score, confusion_matrix, classification_report, matthews_corrcoef)\n",
    "from sklearn.model_selection import train_test_split\n",
    "import pandas as pd\n",
    "from sklearn.preprocessing import StandardScaler\n",
    "import numpy as np"
   ]
  },
  {
   "cell_type": "code",
   "execution_count": 2,
   "metadata": {},
   "outputs": [],
   "source": [
    "def train_model(X_train, y_train, X_test, y_test, feature_names, grid_search=False):\n",
    "    # Initialize and fit the model\n",
    "    start_model = RandomForestClassifier(\n",
    "        verbose=1,\n",
    "        n_jobs=-1,\n",
    "        n_estimators=200,\n",
    "        min_samples_leaf=2, \n",
    "        min_samples_split=10,\n",
    "        max_depth=10,\n",
    "        max_features=None,\n",
    "        random_state=42,\n",
    "        class_weight='balanced'\n",
    "    )\n",
    "\n",
    "    if grid_search:\n",
    "        param_grid = {\n",
    "            'n_estimators': [50, 100, 200],\n",
    "            'max_depth': [None, 10, 20],\n",
    "            'min_samples_split': [2, 5, 10],\n",
    "            'min_samples_leaf': [1, 2, 4],\n",
    "            'max_features': ['sqrt', 'log2', None],\n",
    "        }\n",
    "\n",
    "        # Searching for the best tree parameters\n",
    "        grid_search = GridSearchCV(\n",
    "            start_model,\n",
    "            param_grid,\n",
    "            n_jobs=-1\n",
    "        )\n",
    "\n",
    "        grid_search.fit(X_train, y_train)\n",
    "        best_model = grid_search.best_estimator_\n",
    "        best_params = grid_search.best_params_\n",
    "\n",
    "        print(\"best_params_ ----> Random Forest:\", best_params)\n",
    "        print(\"best_rf_model: \", best_model)\n",
    "    else:\n",
    "        best_model = start_model\n",
    "        best_model.fit(X_train, y_train)\n",
    "\n",
    "    # Test predictions\n",
    "    y_pred = best_model.predict(X_test)\n",
    "\n",
    "    # Evaluate model\n",
    "    metrics_rf = calculate_performance_metrics(y_test, y_pred)\n",
    "    return best_model, metrics_rf\n",
    "\n",
    "# Useful values for classification\n",
    "def calculate_performance_metrics(y_test, y_pred):\n",
    "    metrics = {}\n",
    "    metrics['accuracy'] = accuracy_score(y_test, y_pred)\n",
    "    metrics['precision'] = precision_score(y_test, y_pred, average='weighted')\n",
    "    metrics['recall'] = recall_score(y_test, y_pred, average='weighted')\n",
    "    metrics['f1_score'] = f1_score(y_test, y_pred, average='weighted')\n",
    "    metrics['confusion_matrix'] = confusion_matrix(y_test, y_pred)\n",
    "    metrics['mcc'] = matthews_corrcoef(y_test, y_pred)\n",
    "    metrics['classification_report'] = classification_report(y_test, y_pred)\n",
    "    \n",
    "    return metrics\n"
   ]
  },
  {
   "cell_type": "code",
   "execution_count": 3,
   "metadata": {},
   "outputs": [],
   "source": [
    "# Load the data\n",
    "#TODO: change this to use the data from the s3 bucket and not local data\n",
    "def process_data(): \n",
    "    data_name = ''\n",
    "    processed_data = pd.read_csv(\"./data/final.csv\")\n",
    "    processed_data = processed_data.drop(columns=[\"date\"])\n",
    "\n",
    "\n",
    "    # Separate data\n",
    "    target_name = 'weather_code'\n",
    "    X = processed_data.drop(columns=[target_name]).values\n",
    "    y = processed_data[target_name].values\n",
    "\n",
    "    # feature_names = processed_data.columns[:-1].tolist()\n",
    "    feature_names = processed_data.drop(columns=[target_name]).columns.tolist()\n",
    "    return X,y,feature_names\n",
    "    \n",
    "\n",
    "# Trains the model\n",
    "def create_model():\n",
    "    X,y,feature_names = process_data()\n",
    "\n",
    "    # Get test and train\n",
    "    X_train, X_test, y_train, y_test = train_test_split(X, y, test_size=0.2, random_state=42)\n",
    "\n",
    "    print('Read the data')\n",
    "    # Run the model\n",
    "    model = train_model(X_train, y_train, X_test, y_test, feature_names)\n",
    "\n",
    "    return model"
   ]
  },
  {
   "cell_type": "code",
   "execution_count": 4,
   "metadata": {},
   "outputs": [
    {
     "name": "stdout",
     "output_type": "stream",
     "text": [
      "Read the data\n"
     ]
    },
    {
     "name": "stderr",
     "output_type": "stream",
     "text": [
      "[Parallel(n_jobs=-1)]: Using backend ThreadingBackend with 2 concurrent workers.\n",
      "[Parallel(n_jobs=-1)]: Done  46 tasks      | elapsed:    2.4s\n",
      "[Parallel(n_jobs=-1)]: Done 196 tasks      | elapsed:   10.5s\n",
      "[Parallel(n_jobs=-1)]: Done 200 out of 200 | elapsed:   10.8s finished\n",
      "[Parallel(n_jobs=2)]: Using backend ThreadingBackend with 2 concurrent workers.\n",
      "[Parallel(n_jobs=2)]: Done  46 tasks      | elapsed:    0.1s\n",
      "[Parallel(n_jobs=2)]: Done 196 tasks      | elapsed:    0.1s\n",
      "[Parallel(n_jobs=2)]: Done 200 out of 200 | elapsed:    0.1s finished\n",
      "/opt/conda/lib/python3.12/site-packages/sklearn/metrics/_classification.py:1731: UndefinedMetricWarning: Precision is ill-defined and being set to 0.0 in labels with no predicted samples. Use `zero_division` parameter to control this behavior.\n",
      "  _warn_prf(average, modifier, f\"{metric.capitalize()} is\", result.shape[0])\n",
      "/opt/conda/lib/python3.12/site-packages/sklearn/metrics/_classification.py:1731: UndefinedMetricWarning: Precision is ill-defined and being set to 0.0 in labels with no predicted samples. Use `zero_division` parameter to control this behavior.\n",
      "  _warn_prf(average, modifier, f\"{metric.capitalize()} is\", result.shape[0])\n",
      "/opt/conda/lib/python3.12/site-packages/sklearn/metrics/_classification.py:1731: UndefinedMetricWarning: Precision is ill-defined and being set to 0.0 in labels with no predicted samples. Use `zero_division` parameter to control this behavior.\n",
      "  _warn_prf(average, modifier, f\"{metric.capitalize()} is\", result.shape[0])\n",
      "/opt/conda/lib/python3.12/site-packages/sklearn/metrics/_classification.py:1731: UndefinedMetricWarning: Precision is ill-defined and being set to 0.0 in labels with no predicted samples. Use `zero_division` parameter to control this behavior.\n",
      "  _warn_prf(average, modifier, f\"{metric.capitalize()} is\", result.shape[0])\n"
     ]
    }
   ],
   "source": [
    "#TODO: run this using ml flow\n",
    "def run_model_training():\n",
    "    # Train the model\n",
    "    model = create_model()\n",
    "    return model\n",
    "\n",
    "model, metrics_rf = run_model_training()\n"
   ]
  }
 ],
 "metadata": {
  "kernelspec": {
   "display_name": "base",
   "language": "python",
   "name": "python3"
  },
  "language_info": {
   "codemirror_mode": {
    "name": "ipython",
    "version": 3
   },
   "file_extension": ".py",
   "mimetype": "text/x-python",
   "name": "python",
   "nbconvert_exporter": "python",
   "pygments_lexer": "ipython3",
   "version": "3.12.9"
  }
 },
 "nbformat": 4,
 "nbformat_minor": 2
}
