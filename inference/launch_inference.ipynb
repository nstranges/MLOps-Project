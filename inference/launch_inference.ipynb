{
 "cells": [
  {
   "cell_type": "code",
   "execution_count": null,
   "id": "46fdcf3a",
   "metadata": {
    "execution": {
     "iopub.execute_input": "2025-10-03T20:38:33.085998Z",
     "iopub.status.busy": "2025-10-03T20:38:33.085718Z"
    }
   },
   "outputs": [
    {
     "name": "stdout",
     "output_type": "stream",
     "text": [
      "---"
     ]
    }
   ],
   "source": [
    "from sagemaker.sklearn.model import SKLearnModel\n",
    "from sagemaker import get_execution_role\n",
    "from sagemaker.serverless import ServerlessInferenceConfig\n",
    "\n",
    "# Definitions\n",
    "BUCKET = \"mlopsdummybucket1\"\n",
    "PREFIX = \"models\"\n",
    "artifact_path = f\"s3://{BUCKET}/{PREFIX}/model.tar.gz\"\n",
    "\n",
    "# Creating the model from the bucket\n",
    "model = SKLearnModel(\n",
    "    model_data=artifact_path,\n",
    "    role=get_execution_role(),\n",
    "    entry_point=\"inference.py\",\n",
    "    framework_version=\"1.2-1\",\n",
    ")\n",
    "\n",
    "# Deploying as a server\n",
    "# predictor = model.deploy(\n",
    "#     initial_instance_count=1,\n",
    "#     instance_type=\"ml.t3.medium\",\n",
    "# )\n",
    "\n",
    "# Actually deploying the model as a serverless function\n",
    "predictor = model.deploy(\n",
    "    serverless_inference_config=ServerlessInferenceConfig(\n",
    "        memory_size_in_mb=1024,   # 1024/2048/4096/6144/8192\n",
    "        max_concurrency=1\n",
    "    )\n",
    ")"
   ]
  }
 ],
 "metadata": {
  "kernelspec": {
   "display_name": "Python 3 (ipykernel)",
   "language": "python",
   "name": "python3"
  },
  "language_info": {
   "codemirror_mode": {
    "name": "ipython",
    "version": 3
   },
   "file_extension": ".py",
   "mimetype": "text/x-python",
   "name": "python",
   "nbconvert_exporter": "python",
   "pygments_lexer": "ipython3",
   "version": "3.12.9"
  }
 },
 "nbformat": 4,
 "nbformat_minor": 5
}
